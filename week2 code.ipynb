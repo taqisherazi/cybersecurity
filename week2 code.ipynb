{
  "cells": [
    {
      "cell_type": "markdown",
      "metadata": {
        "id": "gOXIRsF94WAX"
      },
      "source": [
        "# **Importing libraries**"
      ]
    },
    {
      "cell_type": "code",
      "execution_count": 20,
      "metadata": {
        "id": "nrKJ28JH2FqF",
        "colab": {
          "base_uri": "https://localhost:8080/"
        },
        "outputId": "c5425a24-a4e9-4d9f-d296-4a2d971dd6b9"
      },
      "outputs": [
        {
          "output_type": "stream",
          "name": "stdout",
          "text": [
            "Matplotlib version: 3.10.0\n"
          ]
        }
      ],
      "source": [
        "import matplotlib\n",
        "import matplotlib.pyplot as plt\n",
        "import numpy as np\n",
        "import pandas as pd\n",
        "\n",
        "print(\"Matplotlib version:\", matplotlib.__version__)"
      ]
    },
    {
      "cell_type": "markdown",
      "metadata": {
        "id": "PAa4PipK5OpG"
      },
      "source": [
        "# **Basic plots with Python lists and NumPy arrays**\n",
        "\n",
        "# One of the simplest plot types you can create is a line chart, and you can define your data using either Python lists or NumPy arrays.\n",
        "\n",
        "# To illustrate this, let's generate two sets of data, 'x' and 'y', each containing values from 1 to 7.\n",
        "\n"
      ]
    },
    {
      "cell_type": "code",
      "execution_count": 21,
      "metadata": {
        "id": "1snZPJfR2o4m"
      },
      "outputs": [],
      "source": [
        "# x = Your code to create list x with values  [1, 2, 3, 4, 5, 6, 7]\n",
        "# y = Your code to create a list with values  [1, 2, 3, 4, 5, 6, 7]\n",
        "\n",
        "# plt.plot(x, y)"
      ]
    },
    {
      "cell_type": "markdown",
      "metadata": {
        "id": "RP50fpd4OUZn"
      },
      "source": [
        "# We could add colour to the plot"
      ]
    },
    {
      "cell_type": "code",
      "execution_count": 22,
      "metadata": {
        "id": "VP671p0k2uWI"
      },
      "outputs": [],
      "source": [
        "# plt.plot(x, y, color='red')"
      ]
    },
    {
      "cell_type": "markdown",
      "metadata": {
        "id": "AZolrmsdOimz"
      },
      "source": [
        "# You can display plots with different line style"
      ]
    },
    {
      "cell_type": "code",
      "execution_count": 23,
      "metadata": {
        "id": "qP6r_Cpn2yB3"
      },
      "outputs": [],
      "source": [
        "# plt.plot(x, y, linestyle='dotted')"
      ]
    },
    {
      "cell_type": "markdown",
      "metadata": {
        "id": "7KL07WjbYBPp"
      },
      "source": [
        "# You can specify the width of the line"
      ]
    },
    {
      "cell_type": "code",
      "execution_count": 24,
      "metadata": {
        "id": "Nuk9UrMY27Ds",
        "colab": {
          "base_uri": "https://localhost:8080/",
          "height": 141
        },
        "outputId": "054bcb08-9b7d-4f19-dedc-270b294eae3b"
      },
      "outputs": [
        {
          "output_type": "error",
          "ename": "NameError",
          "evalue": "name 'y' is not defined",
          "traceback": [
            "\u001b[0;31m---------------------------------------------------------------------------\u001b[0m",
            "\u001b[0;31mNameError\u001b[0m                                 Traceback (most recent call last)",
            "\u001b[0;32m<ipython-input-24-c99e65fb132b>\u001b[0m in \u001b[0;36m<cell line: 0>\u001b[0;34m()\u001b[0m\n\u001b[0;32m----> 1\u001b[0;31m \u001b[0mplt\u001b[0m\u001b[0;34m.\u001b[0m\u001b[0mplot\u001b[0m\u001b[0;34m(\u001b[0m\u001b[0my\u001b[0m\u001b[0;34m,\u001b[0m \u001b[0mlinestyle\u001b[0m\u001b[0;34m=\u001b[0m\u001b[0;34m'-.'\u001b[0m\u001b[0;34m,\u001b[0m \u001b[0mlinewidth\u001b[0m\u001b[0;34m=\u001b[0m\u001b[0;36m5\u001b[0m\u001b[0;34m)\u001b[0m\u001b[0;34m;\u001b[0m\u001b[0;34m\u001b[0m\u001b[0;34m\u001b[0m\u001b[0m\n\u001b[0m",
            "\u001b[0;31mNameError\u001b[0m: name 'y' is not defined"
          ]
        }
      ],
      "source": [
        "# plt.plot(y, linestyle='-.', linewidth=5);"
      ]
    },
    {
      "cell_type": "markdown",
      "metadata": {
        "id": "s--YkRVzOw8_"
      },
      "source": [
        "# You can view matplotlib.lines.lineStyles to see what line styles are available.\n",
        "\n"
      ]
    },
    {
      "cell_type": "code",
      "execution_count": null,
      "metadata": {
        "id": "3WTDEoyT3RtU"
      },
      "outputs": [],
      "source": [
        "# matplotlib.lines.lineStyles"
      ]
    },
    {
      "cell_type": "markdown",
      "metadata": {
        "id": "H-yx7Wxh630t"
      },
      "source": [
        "# You can display multiple lines on the same plot by calling the plot function multiple times.\n",
        "\n"
      ]
    },
    {
      "cell_type": "code",
      "execution_count": null,
      "metadata": {
        "id": "QFWfGnb36-_a"
      },
      "outputs": [],
      "source": [
        "# Your code to create a list y1 with values [1, 2, 3, 4, 5]\n",
        "# Your code to create a list y2 with values [2, 5, 9, 13, 18]\n",
        "\n",
        "# plt.plot(y1)\n",
        "# plt.plot(y2)"
      ]
    },
    {
      "cell_type": "markdown",
      "metadata": {
        "id": "7mukCwqn7FsV"
      },
      "source": [
        "# You can also pass multiple sets of x and y data points to the plot function at once.\n",
        "\n"
      ]
    },
    {
      "cell_type": "code",
      "execution_count": null,
      "metadata": {
        "id": "WZhykVUg7Ajb"
      },
      "outputs": [],
      "source": [
        "x1 = [1, 2, 3, 4, 5]\n",
        "y1 = [1, 2, 3, 4, 5]\n",
        "x2 = [1, 2, 3, 4, 5]\n",
        "y2 = [2, 5, 9, 13, 18]\n",
        "x3 = [1, 2, 3, 4, 5]\n",
        "y3 = [2, 4, 6, 8, 10]\n",
        "\n",
        "plt.plot(x1, y1, x2, y2, x3, y3)\n",
        "\n"
      ]
    },
    {
      "cell_type": "markdown",
      "metadata": {
        "id": "1qTMY_m47Zy2"
      },
      "source": [
        "# You can also control the markers used to plot each data point.\n",
        "\n"
      ]
    },
    {
      "cell_type": "code",
      "execution_count": null,
      "metadata": {
        "id": "pwKMFklq7gka"
      },
      "outputs": [],
      "source": [
        "y = [2, 5, 9, 13, 18]\n",
        "\n",
        "plt.plot(y, marker='o');  # That's the lowercase letter 'o'"
      ]
    },
    {
      "cell_type": "markdown",
      "metadata": {
        "id": "TqESyJ46yI2n"
      },
      "source": [
        "# You can select different markers.\n",
        "\n",
        "# Use the following link to get the list of markers.\n",
        "https://matplotlib.org/stable/api/markers_api.html\n",
        "\n",
        "# You can see all of the different marker styles using matplotlib.markers.MarkerStyle.markers\n",
        "\n",
        "# In the next cell, print the available markers"
      ]
    },
    {
      "cell_type": "code",
      "execution_count": null,
      "metadata": {
        "id": "PHfM1TCTzR3x"
      },
      "outputs": [],
      "source": [
        "# Your code to print available markers"
      ]
    },
    {
      "cell_type": "code",
      "execution_count": null,
      "metadata": {
        "id": "npfsJB1_7pbb"
      },
      "outputs": [],
      "source": [
        "y1 = [1, 2, 3, 4, 5]\n",
        "y2 = [2, 5, 9, 13, 18]\n",
        "\n",
        "plt.plot(y1, marker='s')  # square marker\n",
        "\n",
        "# Your code to plot y2 with the diamond marker"
      ]
    },
    {
      "cell_type": "markdown",
      "metadata": {
        "id": "5ym6a8El7sdc"
      },
      "source": [
        "# You can also change the marker size.\n",
        "\n"
      ]
    },
    {
      "cell_type": "code",
      "execution_count": null,
      "metadata": {
        "id": "6DGlwXWj7tXW"
      },
      "outputs": [],
      "source": [
        "y = [2, 5, 9, 13, 18]\n",
        "\n",
        "plt.plot(y, marker='o', markersize=12);"
      ]
    },
    {
      "cell_type": "markdown",
      "metadata": {
        "id": "A6bNozGA8GiL"
      },
      "source": [
        "# You can also change the marker edge color and face color.\n",
        "\n",
        "\n"
      ]
    },
    {
      "cell_type": "code",
      "execution_count": null,
      "metadata": {
        "id": "RAfWCu9E8EdV"
      },
      "outputs": [],
      "source": [
        "plt.plot(y, marker='o', markersize=12, markeredgecolor='red', markerfacecolor='yellow');\n"
      ]
    },
    {
      "cell_type": "markdown",
      "metadata": {
        "id": "FgWquohE8u5V"
      },
      "source": [
        "# You can plot functions\n",
        "\n"
      ]
    },
    {
      "cell_type": "code",
      "execution_count": null,
      "metadata": {
        "id": "-4v1YqWd8kAl"
      },
      "outputs": [],
      "source": [
        "x = np.linspace(start=0, stop=10, num=100)\n",
        "y = np.sin(2*x)\n",
        "\n",
        "plt.plot(x, y);"
      ]
    },
    {
      "cell_type": "code",
      "execution_count": null,
      "metadata": {
        "id": "dgc8uPnZv0XM"
      },
      "outputs": [],
      "source": [
        "# Your code to plot cos (x) function"
      ]
    },
    {
      "cell_type": "markdown",
      "metadata": {
        "id": "FSJNufgm9U8I"
      },
      "source": [
        "# We can add axis labels to a chart using the xlabel and ylabel functions. Let's modify our data to plot month abbreviations on the x-axis and fictional sales figures on the y-axis."
      ]
    },
    {
      "cell_type": "code",
      "execution_count": null,
      "metadata": {
        "id": "_4UxGlGk9aCs"
      },
      "outputs": [],
      "source": [
        "# Your code to create a list x with values ['Jan', 'Feb', 'March', 'Apr', 'May']\n",
        "y1 = [1, 2, 3, 4, 5]\n",
        "y2 = [2, 5, 9, 13, 18]\n",
        "y3 = [2, 4, 6, 8, 10]\n",
        "\n",
        "plt.plot(x, y1, x, y2, x, y3)\n",
        "plt.xlabel('Month')\n",
        "plt.ylabel('Sales')"
      ]
    },
    {
      "cell_type": "markdown",
      "metadata": {
        "id": "5za27e39-IJt"
      },
      "source": [
        "# Could we add a title to the whole chart?"
      ]
    },
    {
      "cell_type": "code",
      "execution_count": null,
      "metadata": {
        "id": "5QB5xnRD-Czy"
      },
      "outputs": [],
      "source": [
        "x = ['Jan', 'Feb', 'March', 'Apr', 'May']\n",
        "y1 = [1, 2, 3, 4, 5]\n",
        "y2 = [2, 5, 9, 13, 18]\n",
        "y3 = [2, 4, 6, 8, 10]\n",
        "\n",
        "plt.plot(x, y1, x, y2, x, y3)\n",
        "\n",
        "# Your code to print label 'Month of the year' in x axis\n",
        "# Your code to print label 'Total Sales' in y axis\n",
        "\n",
        "plt.title('Monthly Sales')"
      ]
    },
    {
      "cell_type": "markdown",
      "metadata": {
        "id": "xHh_PUBZ-vom"
      },
      "source": [
        "# In the above plot, we do not know which line represnets what.\n",
        "\n",
        "# So, lets add legends to the plot."
      ]
    },
    {
      "cell_type": "code",
      "execution_count": null,
      "metadata": {
        "id": "w800uz2N-ys4"
      },
      "outputs": [],
      "source": [
        "x = ['Jan', 'Feb', 'March', 'Apr', 'May']\n",
        "y1 = [1, 2, 3, 4, 5]\n",
        "y2 = [2, 5, 9, 13, 18]\n",
        "y3 = [2, 4, 6, 8, 10]\n",
        "\n",
        "plt.plot(x, y1, x, y2, x, y3)\n",
        "\n",
        "plt.xlabel('Month')\n",
        "plt.ylabel('Sales')\n",
        "\n",
        "# Your code to print title of the graph 'Monthly sales'\n",
        "\n",
        "plt.legend(labels=['Alice', 'Bob', 'Carol'], loc='upper left');"
      ]
    },
    {
      "cell_type": "markdown",
      "metadata": {
        "id": "LgeVLOul-7xz"
      },
      "source": [
        "# Let's add markers and grid lines to make the plot read easier.\n"
      ]
    },
    {
      "cell_type": "code",
      "execution_count": null,
      "metadata": {
        "id": "RwBWEQKP--tK"
      },
      "outputs": [],
      "source": [
        "x = ['Jan', 'Feb', 'March', 'Apr', 'May']\n",
        "y1 = [1, 2, 3, 4, 5]\n",
        "y2 = [2, 5, 9, 13, 18]\n",
        "y3 = [2, 4, 6, 8, 10]\n",
        "\n",
        "# Your code to plot y1, y2, y3, wrt. x\n",
        "# Your code to print label in x axis\n",
        "# Your code to print label in y axis\n",
        "# Your code to rint title of the plot\n",
        "plt.legend(labels=['Alice', 'Bob', 'Carol'], loc='upper left')\n",
        "plt.grid(True);"
      ]
    },
    {
      "cell_type": "markdown",
      "metadata": {
        "id": "mKu8oWl4_JBk"
      },
      "source": [
        "# Refer to the documentation at matplotlib.pyplot.grid to explore all the optional parameters you can use to control the style of the grid lines.\n",
        "\n",
        "# Note: You can achieve the same using code. What code should you write?\n",
        "\n",
        "# To get an idea of the possibilities, let's modify the color, line thickness, and alpha to make the gridlines more transparent."
      ]
    },
    {
      "cell_type": "code",
      "execution_count": null,
      "metadata": {
        "id": "sFVxgH6U_Man"
      },
      "outputs": [],
      "source": [
        "x = ['Jan', 'Feb', 'March', 'Apr', 'May']\n",
        "y1 = [1, 2, 3, 4, 5]\n",
        "y2 = [2, 5, 9, 13, 18]\n",
        "y3 = [2, 4, 6, 8, 10]\n",
        "\n",
        "plt.plot(x, y1, x, y2, x, y3, marker='o')\n",
        "plt.xlabel('Month')\n",
        "plt.ylabel('Sales')\n",
        "plt.title('Monthly Sales')\n",
        "\n",
        "# Your code to print labels ['Alice', 'Bob', 'Carol'] in the upper right location\n",
        "\n",
        "plt.grid(color='blue', alpha=0.1, linewidth=3);"
      ]
    },
    {
      "cell_type": "markdown",
      "metadata": {
        "id": "BUOWX9ul_S3G"
      },
      "source": [
        "# Another good way to make your chart more readable is to simply make it bigger.\n",
        "\n",
        "# We do that in Matplotlib using the pyplot.figure function.\n"
      ]
    },
    {
      "cell_type": "code",
      "execution_count": null,
      "metadata": {
        "id": "BB3cA3W5_Vgt"
      },
      "outputs": [],
      "source": [
        "fig = plt.figure(figsize=(12, 6))\n",
        "\n",
        "plt.plot(x, y1, x, y2, x, y3, marker='o')\n",
        "plt.xlabel('Month')\n",
        "plt.ylabel('Sales')\n",
        "plt.title('Monthly Sales')\n",
        "plt.legend(labels=['Alice', 'Bob', 'Carol'], loc='upper left')\n",
        "plt.grid(True)"
      ]
    },
    {
      "cell_type": "markdown",
      "metadata": {
        "id": "dvQTN2Zy_dir"
      },
      "source": [
        "# **Bar Plots**\n",
        "\n",
        "# Starting from this section onward, let's import some real-world data.\n",
        "\n",
        "# We'll utilize data from the Titanic dataset. Please refrain from manually opening the CSV file\n"
      ]
    },
    {
      "cell_type": "code",
      "execution_count": 25,
      "metadata": {
        "id": "2uUKTJY8AeJ0",
        "colab": {
          "base_uri": "https://localhost:8080/",
          "height": 360
        },
        "outputId": "c2cc6acd-23d0-4772-a9af-13fa1362e338"
      },
      "outputs": [
        {
          "output_type": "display_data",
          "data": {
            "text/plain": [
              "<IPython.core.display.HTML object>"
            ],
            "text/html": [
              "\n",
              "     <input type=\"file\" id=\"files-551994c4-7787-4928-aa1c-f2a846557215\" name=\"files[]\" multiple disabled\n",
              "        style=\"border:none\" />\n",
              "     <output id=\"result-551994c4-7787-4928-aa1c-f2a846557215\">\n",
              "      Upload widget is only available when the cell has been executed in the\n",
              "      current browser session. Please rerun this cell to enable.\n",
              "      </output>\n",
              "      <script>// Copyright 2017 Google LLC\n",
              "//\n",
              "// Licensed under the Apache License, Version 2.0 (the \"License\");\n",
              "// you may not use this file except in compliance with the License.\n",
              "// You may obtain a copy of the License at\n",
              "//\n",
              "//      http://www.apache.org/licenses/LICENSE-2.0\n",
              "//\n",
              "// Unless required by applicable law or agreed to in writing, software\n",
              "// distributed under the License is distributed on an \"AS IS\" BASIS,\n",
              "// WITHOUT WARRANTIES OR CONDITIONS OF ANY KIND, either express or implied.\n",
              "// See the License for the specific language governing permissions and\n",
              "// limitations under the License.\n",
              "\n",
              "/**\n",
              " * @fileoverview Helpers for google.colab Python module.\n",
              " */\n",
              "(function(scope) {\n",
              "function span(text, styleAttributes = {}) {\n",
              "  const element = document.createElement('span');\n",
              "  element.textContent = text;\n",
              "  for (const key of Object.keys(styleAttributes)) {\n",
              "    element.style[key] = styleAttributes[key];\n",
              "  }\n",
              "  return element;\n",
              "}\n",
              "\n",
              "// Max number of bytes which will be uploaded at a time.\n",
              "const MAX_PAYLOAD_SIZE = 100 * 1024;\n",
              "\n",
              "function _uploadFiles(inputId, outputId) {\n",
              "  const steps = uploadFilesStep(inputId, outputId);\n",
              "  const outputElement = document.getElementById(outputId);\n",
              "  // Cache steps on the outputElement to make it available for the next call\n",
              "  // to uploadFilesContinue from Python.\n",
              "  outputElement.steps = steps;\n",
              "\n",
              "  return _uploadFilesContinue(outputId);\n",
              "}\n",
              "\n",
              "// This is roughly an async generator (not supported in the browser yet),\n",
              "// where there are multiple asynchronous steps and the Python side is going\n",
              "// to poll for completion of each step.\n",
              "// This uses a Promise to block the python side on completion of each step,\n",
              "// then passes the result of the previous step as the input to the next step.\n",
              "function _uploadFilesContinue(outputId) {\n",
              "  const outputElement = document.getElementById(outputId);\n",
              "  const steps = outputElement.steps;\n",
              "\n",
              "  const next = steps.next(outputElement.lastPromiseValue);\n",
              "  return Promise.resolve(next.value.promise).then((value) => {\n",
              "    // Cache the last promise value to make it available to the next\n",
              "    // step of the generator.\n",
              "    outputElement.lastPromiseValue = value;\n",
              "    return next.value.response;\n",
              "  });\n",
              "}\n",
              "\n",
              "/**\n",
              " * Generator function which is called between each async step of the upload\n",
              " * process.\n",
              " * @param {string} inputId Element ID of the input file picker element.\n",
              " * @param {string} outputId Element ID of the output display.\n",
              " * @return {!Iterable<!Object>} Iterable of next steps.\n",
              " */\n",
              "function* uploadFilesStep(inputId, outputId) {\n",
              "  const inputElement = document.getElementById(inputId);\n",
              "  inputElement.disabled = false;\n",
              "\n",
              "  const outputElement = document.getElementById(outputId);\n",
              "  outputElement.innerHTML = '';\n",
              "\n",
              "  const pickedPromise = new Promise((resolve) => {\n",
              "    inputElement.addEventListener('change', (e) => {\n",
              "      resolve(e.target.files);\n",
              "    });\n",
              "  });\n",
              "\n",
              "  const cancel = document.createElement('button');\n",
              "  inputElement.parentElement.appendChild(cancel);\n",
              "  cancel.textContent = 'Cancel upload';\n",
              "  const cancelPromise = new Promise((resolve) => {\n",
              "    cancel.onclick = () => {\n",
              "      resolve(null);\n",
              "    };\n",
              "  });\n",
              "\n",
              "  // Wait for the user to pick the files.\n",
              "  const files = yield {\n",
              "    promise: Promise.race([pickedPromise, cancelPromise]),\n",
              "    response: {\n",
              "      action: 'starting',\n",
              "    }\n",
              "  };\n",
              "\n",
              "  cancel.remove();\n",
              "\n",
              "  // Disable the input element since further picks are not allowed.\n",
              "  inputElement.disabled = true;\n",
              "\n",
              "  if (!files) {\n",
              "    return {\n",
              "      response: {\n",
              "        action: 'complete',\n",
              "      }\n",
              "    };\n",
              "  }\n",
              "\n",
              "  for (const file of files) {\n",
              "    const li = document.createElement('li');\n",
              "    li.append(span(file.name, {fontWeight: 'bold'}));\n",
              "    li.append(span(\n",
              "        `(${file.type || 'n/a'}) - ${file.size} bytes, ` +\n",
              "        `last modified: ${\n",
              "            file.lastModifiedDate ? file.lastModifiedDate.toLocaleDateString() :\n",
              "                                    'n/a'} - `));\n",
              "    const percent = span('0% done');\n",
              "    li.appendChild(percent);\n",
              "\n",
              "    outputElement.appendChild(li);\n",
              "\n",
              "    const fileDataPromise = new Promise((resolve) => {\n",
              "      const reader = new FileReader();\n",
              "      reader.onload = (e) => {\n",
              "        resolve(e.target.result);\n",
              "      };\n",
              "      reader.readAsArrayBuffer(file);\n",
              "    });\n",
              "    // Wait for the data to be ready.\n",
              "    let fileData = yield {\n",
              "      promise: fileDataPromise,\n",
              "      response: {\n",
              "        action: 'continue',\n",
              "      }\n",
              "    };\n",
              "\n",
              "    // Use a chunked sending to avoid message size limits. See b/62115660.\n",
              "    let position = 0;\n",
              "    do {\n",
              "      const length = Math.min(fileData.byteLength - position, MAX_PAYLOAD_SIZE);\n",
              "      const chunk = new Uint8Array(fileData, position, length);\n",
              "      position += length;\n",
              "\n",
              "      const base64 = btoa(String.fromCharCode.apply(null, chunk));\n",
              "      yield {\n",
              "        response: {\n",
              "          action: 'append',\n",
              "          file: file.name,\n",
              "          data: base64,\n",
              "        },\n",
              "      };\n",
              "\n",
              "      let percentDone = fileData.byteLength === 0 ?\n",
              "          100 :\n",
              "          Math.round((position / fileData.byteLength) * 100);\n",
              "      percent.textContent = `${percentDone}% done`;\n",
              "\n",
              "    } while (position < fileData.byteLength);\n",
              "  }\n",
              "\n",
              "  // All done.\n",
              "  yield {\n",
              "    response: {\n",
              "      action: 'complete',\n",
              "    }\n",
              "  };\n",
              "}\n",
              "\n",
              "scope.google = scope.google || {};\n",
              "scope.google.colab = scope.google.colab || {};\n",
              "scope.google.colab._files = {\n",
              "  _uploadFiles,\n",
              "  _uploadFilesContinue,\n",
              "};\n",
              "})(self);\n",
              "</script> "
            ]
          },
          "metadata": {}
        },
        {
          "output_type": "error",
          "ename": "KeyboardInterrupt",
          "evalue": "",
          "traceback": [
            "\u001b[0;31m---------------------------------------------------------------------------\u001b[0m",
            "\u001b[0;31mKeyboardInterrupt\u001b[0m                         Traceback (most recent call last)",
            "\u001b[0;32m<ipython-input-25-1fb8745777c9>\u001b[0m in \u001b[0;36m<cell line: 0>\u001b[0;34m()\u001b[0m\n\u001b[1;32m      1\u001b[0m \u001b[0;32mfrom\u001b[0m \u001b[0mgoogle\u001b[0m\u001b[0;34m.\u001b[0m\u001b[0mcolab\u001b[0m \u001b[0;32mimport\u001b[0m \u001b[0mfiles\u001b[0m\u001b[0;34m\u001b[0m\u001b[0;34m\u001b[0m\u001b[0m\n\u001b[0;32m----> 2\u001b[0;31m \u001b[0muploaded\u001b[0m \u001b[0;34m=\u001b[0m \u001b[0mfiles\u001b[0m\u001b[0;34m.\u001b[0m\u001b[0mupload\u001b[0m\u001b[0;34m(\u001b[0m\u001b[0;34m)\u001b[0m\u001b[0;34m\u001b[0m\u001b[0;34m\u001b[0m\u001b[0m\n\u001b[0m\u001b[1;32m      3\u001b[0m \u001b[0;34m\u001b[0m\u001b[0m\n\u001b[1;32m      4\u001b[0m \u001b[0;31m# Note - If you are using Anaconda, then do not need this code\u001b[0m\u001b[0;34m\u001b[0m\u001b[0;34m\u001b[0m\u001b[0m\n",
            "\u001b[0;32m/usr/local/lib/python3.11/dist-packages/google/colab/files.py\u001b[0m in \u001b[0;36mupload\u001b[0;34m(target_dir)\u001b[0m\n\u001b[1;32m     70\u001b[0m   \"\"\"\n\u001b[1;32m     71\u001b[0m \u001b[0;34m\u001b[0m\u001b[0m\n\u001b[0;32m---> 72\u001b[0;31m   \u001b[0muploaded_files\u001b[0m \u001b[0;34m=\u001b[0m \u001b[0m_upload_files\u001b[0m\u001b[0;34m(\u001b[0m\u001b[0mmultiple\u001b[0m\u001b[0;34m=\u001b[0m\u001b[0;32mTrue\u001b[0m\u001b[0;34m)\u001b[0m\u001b[0;34m\u001b[0m\u001b[0;34m\u001b[0m\u001b[0m\n\u001b[0m\u001b[1;32m     73\u001b[0m   \u001b[0;31m# Mapping from original filename to filename as saved locally.\u001b[0m\u001b[0;34m\u001b[0m\u001b[0;34m\u001b[0m\u001b[0m\n\u001b[1;32m     74\u001b[0m   \u001b[0mlocal_filenames\u001b[0m \u001b[0;34m=\u001b[0m \u001b[0mdict\u001b[0m\u001b[0;34m(\u001b[0m\u001b[0;34m)\u001b[0m\u001b[0;34m\u001b[0m\u001b[0;34m\u001b[0m\u001b[0m\n",
            "\u001b[0;32m/usr/local/lib/python3.11/dist-packages/google/colab/files.py\u001b[0m in \u001b[0;36m_upload_files\u001b[0;34m(multiple)\u001b[0m\n\u001b[1;32m    162\u001b[0m \u001b[0;34m\u001b[0m\u001b[0m\n\u001b[1;32m    163\u001b[0m   \u001b[0;31m# First result is always an indication that the file picker has completed.\u001b[0m\u001b[0;34m\u001b[0m\u001b[0;34m\u001b[0m\u001b[0m\n\u001b[0;32m--> 164\u001b[0;31m   result = _output.eval_js(\n\u001b[0m\u001b[1;32m    165\u001b[0m       'google.colab._files._uploadFiles(\"{input_id}\", \"{output_id}\")'.format(\n\u001b[1;32m    166\u001b[0m           \u001b[0minput_id\u001b[0m\u001b[0;34m=\u001b[0m\u001b[0minput_id\u001b[0m\u001b[0;34m,\u001b[0m \u001b[0moutput_id\u001b[0m\u001b[0;34m=\u001b[0m\u001b[0moutput_id\u001b[0m\u001b[0;34m\u001b[0m\u001b[0;34m\u001b[0m\u001b[0m\n",
            "\u001b[0;32m/usr/local/lib/python3.11/dist-packages/google/colab/output/_js.py\u001b[0m in \u001b[0;36meval_js\u001b[0;34m(script, ignore_result, timeout_sec)\u001b[0m\n\u001b[1;32m     38\u001b[0m   \u001b[0;32mif\u001b[0m \u001b[0mignore_result\u001b[0m\u001b[0;34m:\u001b[0m\u001b[0;34m\u001b[0m\u001b[0;34m\u001b[0m\u001b[0m\n\u001b[1;32m     39\u001b[0m     \u001b[0;32mreturn\u001b[0m\u001b[0;34m\u001b[0m\u001b[0;34m\u001b[0m\u001b[0m\n\u001b[0;32m---> 40\u001b[0;31m   \u001b[0;32mreturn\u001b[0m \u001b[0m_message\u001b[0m\u001b[0;34m.\u001b[0m\u001b[0mread_reply_from_input\u001b[0m\u001b[0;34m(\u001b[0m\u001b[0mrequest_id\u001b[0m\u001b[0;34m,\u001b[0m \u001b[0mtimeout_sec\u001b[0m\u001b[0;34m)\u001b[0m\u001b[0;34m\u001b[0m\u001b[0;34m\u001b[0m\u001b[0m\n\u001b[0m\u001b[1;32m     41\u001b[0m \u001b[0;34m\u001b[0m\u001b[0m\n\u001b[1;32m     42\u001b[0m \u001b[0;34m\u001b[0m\u001b[0m\n",
            "\u001b[0;32m/usr/local/lib/python3.11/dist-packages/google/colab/_message.py\u001b[0m in \u001b[0;36mread_reply_from_input\u001b[0;34m(message_id, timeout_sec)\u001b[0m\n\u001b[1;32m     94\u001b[0m     \u001b[0mreply\u001b[0m \u001b[0;34m=\u001b[0m \u001b[0m_read_next_input_message\u001b[0m\u001b[0;34m(\u001b[0m\u001b[0;34m)\u001b[0m\u001b[0;34m\u001b[0m\u001b[0;34m\u001b[0m\u001b[0m\n\u001b[1;32m     95\u001b[0m     \u001b[0;32mif\u001b[0m \u001b[0mreply\u001b[0m \u001b[0;34m==\u001b[0m \u001b[0m_NOT_READY\u001b[0m \u001b[0;32mor\u001b[0m \u001b[0;32mnot\u001b[0m \u001b[0misinstance\u001b[0m\u001b[0;34m(\u001b[0m\u001b[0mreply\u001b[0m\u001b[0;34m,\u001b[0m \u001b[0mdict\u001b[0m\u001b[0;34m)\u001b[0m\u001b[0;34m:\u001b[0m\u001b[0;34m\u001b[0m\u001b[0;34m\u001b[0m\u001b[0m\n\u001b[0;32m---> 96\u001b[0;31m       \u001b[0mtime\u001b[0m\u001b[0;34m.\u001b[0m\u001b[0msleep\u001b[0m\u001b[0;34m(\u001b[0m\u001b[0;36m0.025\u001b[0m\u001b[0;34m)\u001b[0m\u001b[0;34m\u001b[0m\u001b[0;34m\u001b[0m\u001b[0m\n\u001b[0m\u001b[1;32m     97\u001b[0m       \u001b[0;32mcontinue\u001b[0m\u001b[0;34m\u001b[0m\u001b[0;34m\u001b[0m\u001b[0m\n\u001b[1;32m     98\u001b[0m     if (\n",
            "\u001b[0;31mKeyboardInterrupt\u001b[0m: "
          ]
        }
      ],
      "source": [
        "from google.colab import files\n",
        "uploaded = files.upload()\n",
        "\n",
        "# Note - If you are using Anaconda, then do not need this code"
      ]
    },
    {
      "cell_type": "markdown",
      "metadata": {
        "id": "8RIMvzdnTOoD"
      },
      "source": [
        "# Let's read the file using Pandas. You're familiar with the command.\n",
        "\n",
        "# Please write the command and print the first 5 rows in the next cell."
      ]
    },
    {
      "cell_type": "code",
      "execution_count": null,
      "metadata": {
        "id": "sIWlT7Tf_cR5"
      },
      "outputs": [],
      "source": [
        "# Your code to read the titanic.csv file using pandas\n",
        "\n",
        "# Your code to print first 5 rows of the file. How will you print first 10 rows."
      ]
    },
    {
      "cell_type": "markdown",
      "metadata": {
        "id": "_GoSFpiyA1c0"
      },
      "source": [
        "# Let's count the values in the 'Embarked' column and create a plot for it.\n",
        "\n",
        "# Are you familiar with the method for counting values? Please write it in the next cell."
      ]
    },
    {
      "cell_type": "code",
      "execution_count": null,
      "metadata": {
        "id": "VSe-3G7CAlnt"
      },
      "outputs": [],
      "source": [
        "# embarked = Your Code to count items in Embarked column. Remember, value_counts() function.\n",
        "\n",
        "#print(embarked.index)     # these will be our bar labels\n",
        "#print(embarked.values)    # these will be the heights of the bars"
      ]
    },
    {
      "cell_type": "markdown",
      "metadata": {
        "id": "tvEnT_JKBMH-"
      },
      "source": [
        "# Now, we can create a bar plot using the matplotlib.pyplot.bar class.\n",
        "\n"
      ]
    },
    {
      "cell_type": "code",
      "execution_count": null,
      "metadata": {
        "id": "qJxW4oItBEs4"
      },
      "outputs": [],
      "source": [
        "plt.bar(x=embarked.index, height=embarked.values)\n"
      ]
    },
    {
      "cell_type": "markdown",
      "metadata": {
        "id": "seZAAdEqBVUO"
      },
      "source": [
        "# We can also specify a list of colors to apply to each bar.\n",
        "\n"
      ]
    },
    {
      "cell_type": "code",
      "execution_count": null,
      "metadata": {
        "id": "_gwSLUV6BS5e"
      },
      "outputs": [],
      "source": [
        "plt.bar(x=embarked.index, height=embarked.values, color=['blue', 'green', 'red']);\n"
      ]
    },
    {
      "cell_type": "markdown",
      "metadata": {
        "id": "4l6kvXAJBcEu"
      },
      "source": [
        "# We can also create a horizontal bar plot using the barh function,\n",
        "\n",
        "# Note: We need to set the x and y axis accordingly\n",
        "\n"
      ]
    },
    {
      "cell_type": "code",
      "execution_count": null,
      "metadata": {
        "id": "CzN2YW4TBgAl"
      },
      "outputs": [],
      "source": [
        "plt.barh(y=embarked.index, width=embarked.values, color=['blue', 'green', 'red'])"
      ]
    },
    {
      "cell_type": "markdown",
      "metadata": {
        "id": "s9YTkKhFBqxB"
      },
      "source": [
        "# To create stacked bar plots, we can divide the embarked data into two groups: one for men and one for women.\n",
        "\n",
        "# What should the output of the following piece of code be?\n",
        "\n"
      ]
    },
    {
      "cell_type": "code",
      "execution_count": null,
      "metadata": {
        "id": "Qrq9sxQLBycG"
      },
      "outputs": [],
      "source": [
        "#Before running the code, guess the output of following 2 lines\n",
        "\n",
        "embarked_m = titanic_df[titanic_df['Sex']=='male']['Embarked'].value_counts()\n",
        "embarked_f = titanic_df[titanic_df['Sex']=='female']['Embarked'].value_counts()\n",
        "print(embarked_m)\n",
        "print(embarked_f)"
      ]
    },
    {
      "cell_type": "markdown",
      "metadata": {
        "id": "QsX0OK9mB8J8"
      },
      "source": [
        "# To stack the bars, we first plot one set of data conventionally. Then, we instruct Matplotlib to stack the other set on top by using the 'bottom' parameter. This parameter specifies the y-coordinate of the bar bases.\"\n",
        "\n"
      ]
    },
    {
      "cell_type": "code",
      "execution_count": null,
      "metadata": {
        "id": "QYJhO3RrCD68"
      },
      "outputs": [],
      "source": [
        "plt.bar(x=embarked_m.index, height=embarked_m.values, color='blue')\n",
        "plt.bar(x=embarked_f.index, height=embarked_f.values, bottom=embarked_m.values, color='red');"
      ]
    },
    {
      "cell_type": "markdown",
      "metadata": {
        "id": "-BjpylC0CIU1"
      },
      "source": [
        "# Finally, we can use the same functions that we saw before to provide axis labels, a title, and a plot legend.\n",
        "\n"
      ]
    },
    {
      "cell_type": "code",
      "execution_count": null,
      "metadata": {
        "id": "6mDpeZ0aCGtm"
      },
      "outputs": [],
      "source": [
        "plt.bar(x=embarked_m.index, height=embarked_m.values, color='blue', width=0.75)\n",
        "plt.bar(x=embarked_f.index, height=embarked_f.values, bottom=embarked_m.values, color='red', width=0.75)\n",
        "\n",
        "plt.xlabel('Port')\n",
        "plt.ylabel('Passengers')\n",
        "plt.title('Port of Embarkation by Sex')\n",
        "plt.legend(labels=['M', 'F'])"
      ]
    },
    {
      "cell_type": "markdown",
      "metadata": {
        "id": "oq2Yz3R5CSdT"
      },
      "source": [
        "# We can use Matplotlib's hist function to display a frequency distribution of some variable.\n",
        "\n",
        "# Let's show the distribution of the ages of passengers on the Titanic.\n",
        "\n",
        "\n"
      ]
    },
    {
      "cell_type": "code",
      "execution_count": null,
      "metadata": {
        "id": "BxsMzZ9SCWRF"
      },
      "outputs": [],
      "source": [
        "ages = titanic_df['Age']\n",
        "plt.hist(ages)"
      ]
    },
    {
      "cell_type": "markdown",
      "metadata": {
        "id": "jtjgEAZzCcuX"
      },
      "source": [
        "# Note that this illustrates the total count (y-axis) of the ages (x-axis) of the passengers separated into 10 bins.\n",
        "\n",
        "# We can show a probability density of ages in each bin instead of the total count by changing to a density chart"
      ]
    },
    {
      "cell_type": "code",
      "execution_count": null,
      "metadata": {
        "id": "Pb8_2UaKCfEZ"
      },
      "outputs": [],
      "source": [
        "plt.hist(ages, density=True);\n"
      ]
    },
    {
      "cell_type": "markdown",
      "metadata": {
        "id": "Q9Rf_rwDCi1c"
      },
      "source": [
        "# We can also change the number of bins from the default to make the histogram more or less granular, and add titles, labels, and gridlines to make it more readable.\n",
        "\n"
      ]
    },
    {
      "cell_type": "code",
      "execution_count": null,
      "metadata": {
        "id": "zo04T436Cjf2"
      },
      "outputs": [],
      "source": [
        "plt.hist(ages, bins=20)\n",
        "\n",
        "plt.xlabel('Age')\n",
        "plt.ylabel('Passengers')\n",
        "plt.title('Distribution of Passengers Ages')\n",
        "plt.grid(True)"
      ]
    },
    {
      "cell_type": "markdown",
      "metadata": {
        "id": "VhND_vN0C1Kg"
      },
      "source": [
        "From this distribution, we can see that most of the passengers were in the age range of about 20 to 40.\n",
        "\n",
        "We can also see that there were many young children aboard, and relatively few passengers over the age of 70.\n",
        "\n"
      ]
    },
    {
      "cell_type": "markdown",
      "metadata": {
        "id": "UlL7QdkbJwiT"
      },
      "source": [
        "# To create scatter plots, use Matplotlib's matplotlib.pyplot.scatter function.\n",
        "\n",
        "# It expects two lists of values representing x and y coordinates.\n",
        "\n",
        "# Extract the Age and Fare columns from the Titanic data set in next cell. You know the code\n",
        "\n",
        "\n",
        "\n",
        "\n"
      ]
    },
    {
      "cell_type": "code",
      "execution_count": null,
      "metadata": {
        "id": "yoamQc2kKJxA"
      },
      "outputs": [],
      "source": [
        "age = titanic_df['Age']\n",
        "# Your code to extract 'fare' column in the fare variable"
      ]
    },
    {
      "cell_type": "markdown",
      "metadata": {
        "id": "cIYRB1huVmU7"
      },
      "source": [
        "# Plotting the scatter plot."
      ]
    },
    {
      "cell_type": "code",
      "execution_count": null,
      "metadata": {
        "id": "83cquUN0VsCO"
      },
      "outputs": [],
      "source": [
        "plt.scatter(x=age, y=fare)"
      ]
    },
    {
      "cell_type": "markdown",
      "metadata": {
        "id": "3wTxQiaqKOLt"
      },
      "source": [
        "# We can also plot multiple datasets on the same chart.\n",
        "\n",
        "# Guess the outputs of the following before running the code.\n",
        "\n"
      ]
    },
    {
      "cell_type": "code",
      "execution_count": null,
      "metadata": {
        "id": "sLjlMAhpKPEa"
      },
      "outputs": [],
      "source": [
        "age_m = titanic_df[titanic_df['Sex'] == 'male']['Age']\n",
        "fare_m = titanic_df[titanic_df['Sex'] == 'male']['Fare']\n",
        "age_f = titanic_df[titanic_df['Sex'] == 'female']['Age']\n",
        "fare_f = titanic_df[titanic_df['Sex'] == 'female']['Fare']\n",
        "\n"
      ]
    },
    {
      "cell_type": "markdown",
      "metadata": {
        "id": "pGEkoSZOWAay"
      },
      "source": [
        "# Find the age and fare of the females in next cell.\n",
        "\n",
        "\n",
        "\n"
      ]
    },
    {
      "cell_type": "code",
      "execution_count": null,
      "metadata": {
        "id": "znUqZgUiWI4e"
      },
      "outputs": [],
      "source": [
        "age_f = titanic_df[titanic_df['Sex'] == 'female']['Age']\n",
        "fare_f = titanic_df[titanic_df['Sex'] == 'female']['Fare']"
      ]
    },
    {
      "cell_type": "markdown",
      "metadata": {
        "id": "_sDmm15sWQxE"
      },
      "source": [
        "# Plotting multiple scatter plots.\n",
        "\n",
        "# Guess the outputs of the following before running the code.\n",
        "\n"
      ]
    },
    {
      "cell_type": "code",
      "execution_count": null,
      "metadata": {
        "id": "Lp0B5B4VWUNM"
      },
      "outputs": [],
      "source": [
        "plt.scatter(x=age_m, y=fare_m)\n",
        "plt.scatter(x=age_f, y=fare_f)\n",
        "plt.legend(['male', 'female'])"
      ]
    },
    {
      "cell_type": "markdown",
      "metadata": {
        "id": "SfuKIZ3QZyY8"
      },
      "source": [
        "# **Activity**\n",
        "\n",
        "# In the following cell, we will generate a list of random house sizes and associated costs. Additionally, you will learn how to use a 'for' loop in Python.\n",
        "\n",
        "# We've provided sample code for your convenience. However, please remember to set the 'seed' variable to match your SID. For instance, if your SID is 8426, then set 'seed = 8426'."
      ]
    },
    {
      "cell_type": "code",
      "execution_count": 29,
      "metadata": {
        "id": "_H8jXi8idxJ0",
        "colab": {
          "base_uri": "https://localhost:8080/"
        },
        "outputId": "c9f71235-2eec-4acd-9013-88c909422004"
      },
      "outputs": [
        {
          "output_type": "stream",
          "name": "stdout",
          "text": [
            "[1418199.0, 1441835.65, 1441835.65, 1489108.95, 1512745.6, 1512745.6, 1512745.6, 1536382.25, 1548200.575, 1560018.9000000001, 1607292.2000000002, 1607292.2000000002, 1654565.5, 1666383.825, 1678202.15, 1690020.4749999999, 1701838.8, 1701838.8, 1701838.8, 1725475.45]\n",
            "[3, 3.2, 3.4, 3.4, 3.5, 3.7, 3.4, 3.7, 3.8, 3.9, 4.0, 3.95, 4.0, 4.2, 4.4, 4.3, 4.2, 4.1, 4.4, 4.6]\n"
          ]
        }
      ],
      "source": [
        "random_numbers = [0.6, 0.61, 0.61, 0.63, 0.64, 0.64, 0.640, 0.650, 0.655, 0.66, 0.680, 0.680, 0.70, 0.705, 0.710, 0.715, 0.720, 0.720, 0.720, 0.730 ]\n",
        "house_size = []\n",
        "seed = 2363665 # Set seed as your SID\n",
        "\n",
        "for x in random_numbers:\n",
        "  house_size.append (seed*x)\n",
        "\n",
        "cost = [3, 3.2, 3.4, 3.4, 3.5, 3.7, 3.4, 3.7, 3.8, 3.9, 4.0, 3.95, 4.0, 4.2, 4.4, 4.3, 4.2, 4.1, 4.4, 4.6 ]\n",
        "\n",
        "print (house_size)\n",
        "print (cost)"
      ]
    },
    {
      "cell_type": "markdown",
      "metadata": {
        "id": "mE_6daNNzAWH"
      },
      "source": [
        "# Create a well-designed scatter plot comparing 'House Size' to 'Cost'..\n",
        "\n",
        "# Based on the scatter plot you've generated, make a guess for the cost of a slightly larger house with a size of SID*0.75 (Do not worry about the correctness of your guess).\n",
        "\n",
        "# `Please make sure to document the following in your logbook:`\n",
        "\n",
        "# `Include an image of the generated scatter plot between house size and cost. Copy the figure and paste it into your logbook.`\n",
        "\n",
        "# `Record the guess you made for the cost of a slightly larger house with a size of SID*0.75. Don't worry if your guess is incorrect`"
      ]
    },
    {
      "cell_type": "code",
      "execution_count": 30,
      "metadata": {
        "id": "fl_O7XMEsbJg",
        "colab": {
          "base_uri": "https://localhost:8080/",
          "height": 581
        },
        "outputId": "9864e3e0-70bd-4eab-fcdd-f1a736eb90da"
      },
      "outputs": [
        {
          "output_type": "display_data",
          "data": {
            "text/plain": [
              "<Figure size 800x600 with 1 Axes>"
            ],
            "image/png": "[encoded data removed]"
          },
          "metadata": {}
        },
        {
          "output_type": "stream",
          "name": "stdout",
          "text": [
            "Estimated cost for house size 1772748.75: 4.6\n"
          ]
        }
      ],
      "source": [
        "# Your code to create a scatter plot - size vs cost\n",
        "import numpy as np\n",
        "import matplotlib.pyplot as plt\n",
        "\n",
        "# Set your student ID (SID) as a seed\n",
        "SID = 2363665  # Replace with your actual SID\n",
        "np.random.seed(SID)  # Ensuring reproducibility\n",
        "\n",
        "random_numbers = [0.6, 0.61, 0.61, 0.63, 0.64, 0.64, 0.640, 0.650, 0.655, 0.66, 0.680, 0.680, 0.70, 0.705, 0.710, 0.715, 0.720, 0.720, 0.720, 0.730 ]\n",
        "house_size = [SID * x for x in random_numbers]\n",
        "\n",
        "cost = [3, 3.2, 3.4, 3.4, 3.5, 3.7, 3.4, 3.7, 3.8, 3.9, 4.0, 3.95, 4.0, 4.2, 4.4, 4.3, 4.2, 4.1, 4.4, 4.6]\n",
        "\n",
        "# Scatter plot\n",
        "plt.figure(figsize=(8,6))\n",
        "plt.scatter(house_size, cost, color='b', label='Data Points')\n",
        "plt.xlabel(\"House Size\")\n",
        "plt.ylabel(\"Cost (in $1000s)\")\n",
        "plt.title(\"Scatter Plot of House Size vs Cost\")\n",
        "plt.legend()\n",
        "plt.grid(True)\n",
        "\n",
        "# Save and display the figure\n",
        "plt.savefig(\"scatter_plot_house_size_vs_cost.png\")\n",
        "plt.show()\n",
        "\n",
        "# Estimate cost for a slightly larger house (SID * 0.75)\n",
        "larger_house_size = SID * 0.75\n",
        "estimated_cost = np.interp(larger_house_size, house_size, cost)\n",
        "\n",
        "print(f\"Estimated cost for house size {larger_house_size}: {estimated_cost}\")\n"
      ]
    },
    {
      "cell_type": "markdown",
      "metadata": {
        "id": "k4KNqaahd_bU"
      },
      "source": [
        "# **Optional part**\n",
        "\n",
        "# The remainder of the notebook is optional. We recommend that you consider completing it either during the lab session or at home to further enhance your Python knowledge.\n",
        "\n",
        "# However, please note that we will not deduct marks if you choose not to complete it.\n"
      ]
    },
    {
      "cell_type": "markdown",
      "metadata": {
        "id": "jcduDZySMVeg"
      },
      "source": [
        "# **3D Plots**\n",
        "\n",
        "You can also plot that data on a third axis by setting the projection to 3d when calling the axes function.\n",
        "\n",
        "But, first extract the age, fare, and pclass in the next cell. You know the code."
      ]
    },
    {
      "cell_type": "code",
      "execution_count": null,
      "metadata": {
        "id": "tWQdbjjuMWtZ"
      },
      "outputs": [],
      "source": [
        "# age  =  your code to extract all age values from dataframe\n",
        "# fare = your code to extract all fare values from dataframe\n",
        "# pclass = your code to extract all pclass values from dataframe\n",
        "\n"
      ]
    },
    {
      "cell_type": "markdown",
      "metadata": {
        "id": "wxaBx6HpXtwY"
      },
      "source": [
        "Plotting the 3d figure in next cell\n",
        "\n"
      ]
    },
    {
      "cell_type": "code",
      "execution_count": null,
      "metadata": {
        "id": "FwgrFzLwX1Wm"
      },
      "outputs": [],
      "source": [
        "fig = plt.figure(figsize=(9, 9))\n",
        "\n",
        "ax = plt.axes(projection='3d')\n",
        "ax.scatter(xs=age, ys=fare, zs=pclass)\n",
        "\n",
        "ax.set_xlabel('Age')\n",
        "ax.set_ylabel('Fare')\n",
        "ax.set_zlabel('Class')"
      ]
    },
    {
      "cell_type": "markdown",
      "metadata": {
        "id": "_P9t19_pYASs"
      },
      "source": [
        "Changing the colour"
      ]
    },
    {
      "cell_type": "code",
      "execution_count": null,
      "metadata": {
        "id": "vd6MV_GxMUtl"
      },
      "outputs": [],
      "source": [
        "fig = plt.figure(figsize=(9, 9))\n",
        "\n",
        "ax = plt.axes(projection='3d')\n",
        "ax.scatter(xs=age, ys=fare, zs=pclass, c=pclass, cmap='brg')\n",
        "\n",
        "ax.set_xlabel('Age')\n",
        "ax.set_ylabel('Fare')\n",
        "ax.set_zlabel('Class')"
      ]
    },
    {
      "cell_type": "markdown",
      "metadata": {
        "id": "5u45LWgJYOHO"
      },
      "source": [
        "# **Pie Chart**"
      ]
    },
    {
      "cell_type": "code",
      "execution_count": null,
      "metadata": {
        "id": "iFCsX4TcDD9K"
      },
      "outputs": [],
      "source": [
        "x = titanic_df['Sex'].value_counts()\n",
        "\n",
        "plt.pie(x)"
      ]
    },
    {
      "cell_type": "markdown",
      "metadata": {
        "id": "Pg5_0VGXDKW1"
      },
      "source": [
        "Without labels, we can't really understand what even the most basic pie chart means.\n",
        "\n"
      ]
    },
    {
      "cell_type": "code",
      "execution_count": null,
      "metadata": {
        "id": "jV8cMLyPDMnp"
      },
      "outputs": [],
      "source": [
        "plt.pie(x, labels=['Male', 'Female']);\n"
      ]
    },
    {
      "cell_type": "markdown",
      "metadata": {
        "id": "bFHZb-PIDSns"
      },
      "source": [
        "That's better, but what if we want the first slice to start at the 12 o'clock position, which is standard? The default seems to be starting at 3 o'clock. We can do that by specifying a startangle.\n",
        "\n"
      ]
    },
    {
      "cell_type": "code",
      "execution_count": null,
      "metadata": {
        "id": "aV-uMNO7DUic"
      },
      "outputs": [],
      "source": [
        "plt.pie(x, labels=['Male', 'Female'], startangle=90);\n"
      ]
    },
    {
      "cell_type": "markdown",
      "metadata": {
        "id": "ymX5wv-HDZ_p"
      },
      "source": [
        "You can separate one or more slices from the rest of the chart using the explode parameter.\n",
        "\n"
      ]
    },
    {
      "cell_type": "code",
      "execution_count": null,
      "metadata": {
        "id": "IPxbeYaeDhXK"
      },
      "outputs": [],
      "source": [
        "plt.pie(x, labels=['Male', 'Female'], startangle=90, explode=[0.1, 0]);\n"
      ]
    },
    {
      "cell_type": "markdown",
      "metadata": {
        "id": "KeDrdJrVDkr0"
      },
      "source": [
        "Finally, we can display the percentage that each slice represents using the autopct parameter by setting it to a format specifier.\n",
        "\n"
      ]
    },
    {
      "cell_type": "code",
      "execution_count": null,
      "metadata": {
        "id": "HMGPegKuDkCA"
      },
      "outputs": [],
      "source": [
        "plt.pie(x, labels=['Male', 'Female'], startangle=90, autopct='%.1f%%');\n"
      ]
    },
    {
      "cell_type": "markdown",
      "metadata": {
        "id": "QEod4gN2MqSk"
      },
      "source": [
        " # **Subplots**\n",
        "\n",
        " Let's draw two pie charts from the Titanic dataset in one grid, side-by-side.\n",
        "\n",
        "---\n",
        "\n"
      ]
    },
    {
      "cell_type": "code",
      "execution_count": null,
      "metadata": {
        "id": "TV1VBhXbDfSb"
      },
      "outputs": [],
      "source": [
        "s_vals = titanic_df['Sex'].value_counts()\n",
        "e_vals = titanic_df['Embarked'].value_counts()\n",
        "\n",
        "fig, axes = plt.subplots(1, 2) # create a grid with 1 row, 2 columns\n",
        "fig.set_size_inches(8, 4) # make the figure wide\n",
        "\n",
        "# Create a pie chart in the first grid slot\n",
        "axes[0].pie(s_vals, labels=['Male', 'Female'], startangle=90, autopct='%.1f%%')\n",
        "axes[0].set_title('Sex')\n",
        "\n",
        "# Create a pie chart in the second grid slot\n",
        "axes[1].pie(e_vals, labels=['S', 'C', 'Q'], startangle=90, explode=[0, 0.1, 0])\n",
        "axes[1].set_title('Embarked')"
      ]
    },
    {
      "cell_type": "markdown",
      "metadata": {
        "id": "dD-QX42AM1HE"
      },
      "source": [
        "You don't have to create the same kind of chart in each grid space.\n",
        "\n"
      ]
    },
    {
      "cell_type": "code",
      "execution_count": null,
      "metadata": {
        "id": "qc4micuxM6YR"
      },
      "outputs": [],
      "source": [
        "fig, axes = plt.subplots(1, 3) # create a grid with 1 row, 3 columns\n",
        "fig.set_size_inches(12, 4) # make the figure wide\n",
        "\n",
        "# Create a pie chart in the first grid slot\n",
        "axes[0].pie(s_vals, labels=['Male', 'Female'], startangle=90, autopct='%.1f%%')\n",
        "axes[0].set_title('Sex')\n",
        "\n",
        "# Create a box plot in the second grid slot\n",
        "age = titanic_df['Age'].dropna() # Drop missing values before plotting or the boxplot will be empty\n",
        "axes[1].boxplot(age, labels=['Age']);\n",
        "\n",
        "# Create a scatter plot in the third grid slot\n",
        "age = titanic_df['Age']\n",
        "fare = titanic_df['Fare']\n",
        "axes[2].scatter(x=age, y=fare)"
      ]
    },
    {
      "cell_type": "markdown",
      "metadata": {
        "id": "E3x4sFifNBEw"
      },
      "source": [
        "# **Annotating the plot**\n",
        "We can add text inside the plot.\n",
        "\n",
        "Remember, earlier we plotted sin(x) finction.\n",
        "\n",
        "We will write the name of the function inside the plot."
      ]
    },
    {
      "cell_type": "code",
      "execution_count": null,
      "metadata": {
        "id": "u09fIsgGNHA-"
      },
      "outputs": [],
      "source": [
        "x = np.linspace(start=-np.pi, stop=np.pi, num=256)\n",
        "y = np.sin(2*x)\n",
        "\n",
        "fig = plt.figure(figsize=(8, 5))\n",
        "plt.plot(x, y)\n",
        "plt.text(-1.65, 0.5, 'y = sin(2x)', fontsize=14)"
      ]
    },
    {
      "cell_type": "markdown",
      "metadata": {
        "id": "TjSX4d0DNQU2"
      },
      "source": [
        "Reference: https://www.kaggle.com/code/bcruise/matplotlib-basics-tutorial"
      ]
    }
  ],
  "metadata": {
    "colab": {
      "provenance": []
    },
    "kernelspec": {
      "display_name": "Python 3",
      "name": "python3"
    },
    "language_info": {
      "name": "python"
    }
  },
  "nbformat": 4,
  "nbformat_minor": 0
}