{
  "cells": [
    {
      "cell_type": "markdown",
      "id": "8a1af699",
      "metadata": {
        "id": "8a1af699"
      },
      "source": [
        "# KDD Data Analysis and Attack Classification using Machine Learning & Neural Networks"
      ]
    },
    {
      "cell_type": "markdown",
      "id": "b18cfbf0",
      "metadata": {
        "id": "b18cfbf0"
      },
      "source": [
        "## Load the KDD dataset from URL"
      ]
    },
    {
      "cell_type": "markdown",
      "id": "L1jcqum_b7fr",
      "metadata": {
        "id": "L1jcqum_b7fr"
      },
      "source": [
        "Based on the above code, write your own code to develop other ML or Neural network algorithms from list below.\n",
        "\n",
        "Machine Learning Algorithms\n",
        "**bold text**\n",
        "Decision Tree Classifier:  https://scikit-learn.org/stable/modules/generated/sklearn.tree.DecisionTreeClassifier.html\n",
        "\n",
        "K-Nearest Neighbors (KNN):  https://scikit-learn.org/stable/modules/generated/sklearn.neighbors.KNeighborsClassifier.html\n",
        "\n",
        "Logistic Regression: https://scikit-learn.org/stable/modules/generated/sklearn.linear_model.LogisticRegression.html\n",
        "\n",
        "Naive Bayes Classifier: https://scikit-learn.org/stable/modules/generated/sklearn.naive_bayes.GaussianNB.html\n",
        "\n",
        "\n",
        "**Deep Learning Models**\n",
        "Long Short-Term Memory (LSTM): https://keras.io/api/layers/recurrent_layers/lstm/\n",
        "\n",
        "Convolutional Neural Networks (CNN): https://keras.io/api/layers/convolution_layers/convolution1d/\n",
        "\n",
        "Transformers (Hugging Face Transformers)"
      ]
    },
    {
      "cell_type": "markdown",
      "id": "eEiL-iingx4E",
      "metadata": {
        "id": "eEiL-iingx4E"
      },
      "source": [
        "**Important: Lab-Logbbok requirement**\n",
        "\n",
        "Provide a bar graph comparing accuracy, precicion, recall, and f-score for various AI models\n",
        "\n"
      ]
    },
    {
      "cell_type": "code",
      "source": [
        "import pandas as pd\n",
        "import numpy as np\n",
        "import matplotlib.pyplot as plt\n",
        "import seaborn as sns\n",
        "from sklearn.model_selection import train_test_split\n",
        "from sklearn.preprocessing import StandardScaler, LabelEncoder\n",
        "from sklearn.tree import DecisionTreeClassifier\n",
        "from sklearn.neighbors import KNeighborsClassifier\n",
        "from sklearn.linear_model import LogisticRegression\n",
        "from sklearn.naive_bayes import GaussianNB\n",
        "from sklearn.metrics import accuracy_score, precision_score, recall_score, f1_score, classification_report\n",
        "\n",
        "# Load the KDD dataset from URL\n",
        "url = \"http://kdd.ics.uci.edu/databases/kddcup99/kddcup.data_10_percent.gz\"\n",
        "col_names = [\"duration\", \"protocol_type\", \"service\", \"flag\", \"src_bytes\", \"dst_bytes\", \"land\", \"wrong_fragment\", \"urgent\", \"hot\",\n",
        "             \"num_failed_logins\", \"logged_in\", \"num_compromised\", \"root_shell\", \"su_attempted\", \"num_root\", \"num_file_creations\", \"num_shells\",\n",
        "             \"num_access_files\", \"num_outbound_cmds\", \"is_host_login\", \"is_guest_login\", \"count\", \"srv_count\", \"serror_rate\", \"srv_serror_rate\",\n",
        "             \"rerror_rate\", \"srv_rerror_rate\", \"same_srv_rate\", \"diff_srv_rate\", \"srv_diff_host_rate\", \"dst_host_count\", \"dst_host_srv_count\",\n",
        "             \"dst_host_same_srv_rate\", \"dst_host_diff_srv_rate\", \"dst_host_same_src_port_rate\", \"dst_host_srv_diff_host_rate\", \"dst_host_serror_rate\",\n",
        "             \"dst_host_srv_serror_rate\", \"dst_host_rerror_rate\", \"dst_host_srv_rerror_rate\", \"label\"]\n",
        "\n"
      ],
      "metadata": {
        "id": "8WBm4RzN8b1f"
      },
      "id": "8WBm4RzN8b1f",
      "execution_count": 2,
      "outputs": []
    },
    {
      "cell_type": "code",
      "source": [
        "df = pd.read_csv(url, names=col_names, compression='gzip')\n",
        "\n",
        "# Sample 5000 rows to make training faster\n",
        "df = df.sample(n=5000, random_state=42)\n",
        "\n",
        "# Encoding categorical variables into numeric form\n",
        "encoder = LabelEncoder()\n",
        "categorical_columns = ['protocol_type', 'service', 'flag']\n",
        "for col in categorical_columns:\n",
        "    df[col] = encoder.fit_transform(df[col])\n",
        "\n",
        "# Convert labels into binary classification (attack or normal)\n",
        "df['label'] = df['label'].apply(lambda x: 'normal' if x == 'normal.' else 'attack')\n",
        "df['label'] = encoder.fit_transform(df['label'])\n",
        "\n",
        "# Feature Engineering: Creating new features\n",
        "df['byte_ratio'] = df['src_bytes'] / (df['dst_bytes'] + 1)\n",
        "df['total_count'] = df['count'] + df['srv_count']\n",
        "df['error_rate'] = (df['serror_rate'] + df['rerror_rate']) / 2\n",
        "\n"
      ],
      "metadata": {
        "id": "dOEhLodT8gMd"
      },
      "id": "dOEhLodT8gMd",
      "execution_count": 3,
      "outputs": []
    },
    {
      "cell_type": "code",
      "source": [
        "# Splitting Data into Training and Testing Sets\n",
        "X = df.drop('label', axis=1)\n",
        "y = df['label']\n",
        "X_train, X_test, y_train, y_test = train_test_split(X, y, test_size=0.2, random_state=42)\n",
        "\n",
        "# Feature scaling\n",
        "scaler = StandardScaler()\n",
        "X_train = scaler.fit_transform(X_train)\n",
        "X_test = scaler.transform(X_test)\n",
        "\n"
      ],
      "metadata": {
        "id": "S00MUBcD8l35"
      },
      "id": "S00MUBcD8l35",
      "execution_count": 4,
      "outputs": []
    },
    {
      "cell_type": "code",
      "source": [
        "# Initialize models\n",
        "models = {\n",
        "    \"Decision Tree\": DecisionTreeClassifier(random_state=42),\n",
        "    \"K-Nearest Neighbors\": KNeighborsClassifier(n_neighbors=5),\n",
        "    \"Logistic Regression\": LogisticRegression(max_iter=1000),\n",
        "    \"Naive Bayes\": GaussianNB()\n",
        "}\n",
        "\n",
        "# Dictionary to store performance metrics\n",
        "metrics = {\n",
        "    \"Model\": [],\n",
        "    \"Accuracy\": [],\n",
        "    \"Precision\": [],\n",
        "    \"Recall\": [],\n",
        "    \"F1-Score\": []\n",
        "}\n",
        "\n",
        "# Train and evaluate each model\n",
        "for name, model in models.items():\n",
        "    model.fit(X_train, y_train)\n",
        "    y_pred = model.predict(X_test)\n",
        "    metrics[\"Model\"].append(name)\n",
        "    metrics[\"Accuracy\"].append(accuracy_score(y_test, y_pred))\n",
        "    metrics[\"Precision\"].append(precision_score(y_test, y_pred))\n",
        "    metrics[\"Recall\"].append(recall_score(y_test, y_pred))\n",
        "    metrics[\"F1-Score\"].append(f1_score(y_test, y_pred))\n",
        "    print(f\"{name} Classification Report:\\n{classification_report(y_test, y_pred)}\\n\")\n",
        "\n"
      ],
      "metadata": {
        "id": "vaUVbF8d8pdU",
        "outputId": "ea8bd025-637c-47ed-a63b-33388d7df303",
        "colab": {
          "base_uri": "https://localhost:8080/"
        }
      },
      "id": "vaUVbF8d8pdU",
      "execution_count": 5,
      "outputs": [
        {
          "output_type": "stream",
          "name": "stdout",
          "text": [
            "Decision Tree Classification Report:\n",
            "              precision    recall  f1-score   support\n",
            "\n",
            "           0       1.00      1.00      1.00       808\n",
            "           1       0.98      1.00      0.99       192\n",
            "\n",
            "    accuracy                           1.00      1000\n",
            "   macro avg       0.99      1.00      0.99      1000\n",
            "weighted avg       1.00      1.00      1.00      1000\n",
            "\n",
            "\n",
            "K-Nearest Neighbors Classification Report:\n",
            "              precision    recall  f1-score   support\n",
            "\n",
            "           0       1.00      0.99      1.00       808\n",
            "           1       0.97      0.99      0.98       192\n",
            "\n",
            "    accuracy                           0.99      1000\n",
            "   macro avg       0.99      0.99      0.99      1000\n",
            "weighted avg       0.99      0.99      0.99      1000\n",
            "\n",
            "\n",
            "Logistic Regression Classification Report:\n",
            "              precision    recall  f1-score   support\n",
            "\n",
            "           0       1.00      1.00      1.00       808\n",
            "           1       0.98      0.98      0.98       192\n",
            "\n",
            "    accuracy                           0.99      1000\n",
            "   macro avg       0.99      0.99      0.99      1000\n",
            "weighted avg       0.99      0.99      0.99      1000\n",
            "\n",
            "\n",
            "Naive Bayes Classification Report:\n",
            "              precision    recall  f1-score   support\n",
            "\n",
            "           0       0.99      0.99      0.99       808\n",
            "           1       0.97      0.97      0.97       192\n",
            "\n",
            "    accuracy                           0.99      1000\n",
            "   macro avg       0.98      0.98      0.98      1000\n",
            "weighted avg       0.99      0.99      0.99      1000\n",
            "\n",
            "\n"
          ]
        }
      ]
    },
    {
      "cell_type": "code",
      "source": [
        "# Convert metrics dictionary to DataFrame\n",
        "metrics_df = pd.DataFrame(metrics)\n",
        "\n",
        "# Plotting the comparison bar chart\n",
        "plt.figure(figsize=(12, 6))\n",
        "sns.barplot(x=\"Model\", y=\"value\", hue=\"variable\", data=pd.melt(metrics_df, id_vars=\"Model\"))\n",
        "plt.title(\"Performance Comparison of Machine Learning Models\")\n",
        "plt.ylabel(\"Score\")\n",
        "plt.ylim(0, 1)\n",
        "plt.legend(title=\"Metrics\")\n",
        "plt.show()\n"
      ],
      "metadata": {
        "id": "54C30Opo8s5v",
        "outputId": "39f944bd-f2c4-4ed4-8f76-2f80f718978a",
        "colab": {
          "base_uri": "https://localhost:8080/",
          "height": 564
        }
      },
      "id": "54C30Opo8s5v",
      "execution_count": 6,
      "outputs": [
        {
          "output_type": "display_data",
          "data": {
            "text/plain": [
              "<Figure size 1200x600 with 1 Axes>"
            ],
            "image/png": "[encoded data removed]"
          },
          "metadata": {}
        }
      ]
    }
  ],
  "metadata": {
    "colab": {
      "provenance": []
    },
    "kernelspec": {
      "display_name": "Python 3",
      "name": "python3"
    },
    "language_info": {
      "name": "python"
    }
  },
  "nbformat": 4,
  "nbformat_minor": 5
}